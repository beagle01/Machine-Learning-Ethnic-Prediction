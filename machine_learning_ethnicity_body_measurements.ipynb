{
 "cells": [
  {
   "cell_type": "raw",
   "metadata": {},
   "source": [
    "### Study the linkage of race/ethnicity to body measurements by machine learning on NHANES 2005-2006 dataset\n",
    "\n",
    "The National Health and Nutrition Examination Surveys (NHANES) is a program of studies designed to assess the health and nutritional status of adults and children in the United States. The NHANES combines personal interviews and physical examinations, which focus on different population groups or health topics. The surveys examine a nationally representative sample of approximately 5,000 persons each year. These persons are located in counties across the United States, 15 of which are visited each year. For NHANES 2005-2006, there were 10,348 persons selected for the sample, 10,122 of those were interviewed (79.3 percent) and 9,643 (75.6 percent) were examined in the mobile examination centers (MEC). \n",
    "\n",
    "In this analysis I have utilized the dataset of DS13 Examination-Body Measurements collected in the survey and tried to determine the linkage of race/ethnicity (RIDRETH1) to body measurements like body weitht (BMXWT), standing height (BMXHT), body mass index (BMXBMI), upper leg length (BMXLEG), maximal calf circumference (BMXCALF), upper arm length (BMXARML), arm circumference (BMXARMC), waist circumference (BMXWAIST), thigh circumference (BMXTHICR), triceps skinfold (BMXTRI),  subscapular skinfold (BMXSUB). Gender (RIAGENDR) and age (RIDAGEYR) were also included. I trained supervised machine learning algorithms on the dataset and then predicted the race/ethnicity with these features. The race/ethnicity (RIDRETH1) has five classes: 1) Mexican American, 2) Other Hispanic, 3) Non-Hispanic White, 4) Non-Hispanic Black, and 5) Other Race-Including Multi-Racial. In the present study 2) Other Hispanic and 5) Other Race-Including Multi-Racial were excluded since their sample numbers were too small compared to other classes. After processing the dataset, there were thirteen features. The target had three classes. \n",
    "\n",
    "To find a good classification algorithm, I evaluated Logistic Regression, Linear Discriminant Analysis, K-Nearest Neighbors, Decision Trees, Extremely Randomized Trees, Random Forests, Gaussian Naive Bayes, Support Vector Machines, Gradient Boosting, and Neural Networks on processed dataset using cross validatoin method. The accuracy of each algorithm modeling with default parameters was computed. The top five algorithms were Neural Network, Linear Discriminant Analysis, Gradient Boosting, and Linear Regression, and Random Forests. Then I focused on Neura Network, Linear Discriminant Analysis, and Gradient Boosting.\n",
    "\n",
    "When modeling with Neural Networks algorithm, the best pair of accuracy scores for training set and validation set was 0.664 and 0.669, respectively. They were very close. The recall was 0.67 and f1-score was 0.66.\n",
    "\n",
    "When modeling with Linear Discriminant Analysis algorithm, the best pair of accuracy scores for training set and validation set was 0.656 and 0.669, respectively. They were also close. The recall was 0.67 and f1-score was 0.66, too.\n",
    "\n",
    "When modeling with Gradient Boosting algorithm, the best pair of accuracy scores for training set and validation set was 0.629 and 0.632, respectively. They were very close. The recall was 0.63 and f1-score was 0.61.\n",
    "\n",
    "These findings demonstrate that we can discover the linkage of ethnicity to body measurements by training machine learning algorithms on the data and then predict the ethnicity. "
   ]
  },
  {
   "cell_type": "code",
   "execution_count": 1,
   "metadata": {},
   "outputs": [],
   "source": [
    "import numpy as np\n",
    "import pandas as pd"
   ]
  },
  {
   "cell_type": "code",
   "execution_count": 2,
   "metadata": {},
   "outputs": [],
   "source": [
    "# load dataset\n",
    "data = pd.read_table('NHANES-ICRSR25504-0013-Data.tsv', low_memory=False)"
   ]
  },
  {
   "cell_type": "code",
   "execution_count": 3,
   "metadata": {},
   "outputs": [
    {
     "name": "stdout",
     "output_type": "stream",
     "text": [
      "['SEQN', 'BMDSTATS', 'BMXWT', 'BMIWT', 'BMXRECUM', 'BMIRECUM', 'BMXHEAD', 'BMIHEAD', 'BMXHT', 'BMIHT', 'BMXBMI', 'BMXLEG', 'BMILEG', 'BMXCALF', 'BMICALF', 'BMXARML', 'BMIARML', 'BMXARMC', 'BMIARMC', 'BMXWAIST', 'BMIWAIST', 'BMXTHICR', 'BMITHICR', 'BMXTRI', 'BMITRI', 'BMXSUB', 'BMISUB', 'SDDSRVYR', 'RIDSTATR', 'RIDEXMON', 'RIAGENDR', 'RIDAGEYR', 'RIDAGEMN', 'RIDAGEEX', 'RIDRETH1', 'DMQMILIT', 'DMDBORN', 'DMDCITZN', 'DMDYRSUS', 'DMDEDUC3', 'DMDEDUC2', 'DMDSCHOL', 'DMDMARTL', 'DMDHHSIZ', 'DMDFMSIZ', 'INDHHINC', 'INDFMINC', 'INDFMPIR', 'RIDEXPRG', 'DMDHRGND', 'DMDHRAGE', 'DMDHRBRN', 'DMDHREDU', 'DMDHRMAR', 'DMDHSEDU', 'SIALANG', 'SIAPROXY', 'SIAINTRP', 'FIALANG', 'FIAPROXY', 'FIAINTRP', 'MIALANG', 'MIAPROXY', 'MIAINTRP', 'AIALANG', 'WTINT2YR', 'WTMEC2YR', 'SDMVPSU', 'SDMVSTRA']\n"
     ]
    }
   ],
   "source": [
    "# check the variable names\n",
    "print(list(data))"
   ]
  },
  {
   "cell_type": "code",
   "execution_count": 4,
   "metadata": {},
   "outputs": [],
   "source": [
    "# modify the dataset by selecting only adults (ages are between 18 and 60)\n",
    "# exclude race/ethnicity 2) Other hispanic and 5) Other races at the same time\n",
    "data = data[(data['RIDAGEYR'] >= 18) & (data['RIDAGEYR'] <= 60) & (data['RIDRETH1'] != 2) & (data['RIDRETH1'] != 5)]"
   ]
  },
  {
   "cell_type": "code",
   "execution_count": 5,
   "metadata": {},
   "outputs": [
    {
     "data": {
      "text/plain": [
       "(3592, 69)"
      ]
     },
     "execution_count": 5,
     "metadata": {},
     "output_type": "execute_result"
    }
   ],
   "source": [
    "# shape of the temp set\n",
    "data.shape"
   ]
  },
  {
   "cell_type": "code",
   "execution_count": 6,
   "metadata": {},
   "outputs": [],
   "source": [
    "# generate lists of variables to be used\n",
    "id_number = [\"SEQN\"]\n",
    "age_gender = [\"RIDAGEYR\", \"RIAGENDR\"]\n",
    "measurements = [\"BMXWT\", \"BMXHT\", \"BMXBMI\", \"BMXLEG\", \"BMXCALF\", \"BMXARML\", \"BMXARMC\", \"BMXWAIST\", \"BMXTRI\", \n",
    "                   \"BMXSUB\", \"BMXTHICR\"]\n",
    "features = age_gender + measurements\n",
    "target = [\"RIDRETH1\"]\n",
    "\n",
    "# generate a new dataset and set id_number as index\n",
    "data_new = data[id_number + features + target].set_index(id_number)"
   ]
  },
  {
   "cell_type": "code",
   "execution_count": 7,
   "metadata": {},
   "outputs": [
    {
     "data": {
      "text/plain": [
       "(3592, 14)"
      ]
     },
     "execution_count": 7,
     "metadata": {},
     "output_type": "execute_result"
    }
   ],
   "source": [
    "# shape of the new dataset\n",
    "data_new.shape"
   ]
  },
  {
   "cell_type": "code",
   "execution_count": 8,
   "metadata": {
    "scrolled": true
   },
   "outputs": [
    {
     "name": "stdout",
     "output_type": "stream",
     "text": [
      "<class 'pandas.core.frame.DataFrame'>\n",
      "Int64Index: 3592 entries, 31131 to 41473\n",
      "Data columns (total 14 columns):\n",
      "RIDAGEYR    3592 non-null int64\n",
      "RIAGENDR    3592 non-null int64\n",
      "BMXWT       3592 non-null object\n",
      "BMXHT       3592 non-null object\n",
      "BMXBMI      3592 non-null object\n",
      "BMXLEG      3592 non-null object\n",
      "BMXCALF     3592 non-null object\n",
      "BMXARML     3592 non-null object\n",
      "BMXARMC     3592 non-null object\n",
      "BMXWAIST    3592 non-null object\n",
      "BMXTRI      3592 non-null object\n",
      "BMXSUB      3592 non-null object\n",
      "BMXTHICR    3592 non-null object\n",
      "RIDRETH1    3592 non-null int64\n",
      "dtypes: int64(3), object(11)\n",
      "memory usage: 420.9+ KB\n"
     ]
    }
   ],
   "source": [
    "# new dataset info\n",
    "data_new.info()"
   ]
  },
  {
   "cell_type": "code",
   "execution_count": 9,
   "metadata": {
    "scrolled": false
   },
   "outputs": [
    {
     "data": {
      "text/html": [
       "<div>\n",
       "<style>\n",
       "    .dataframe thead tr:only-child th {\n",
       "        text-align: right;\n",
       "    }\n",
       "\n",
       "    .dataframe thead th {\n",
       "        text-align: left;\n",
       "    }\n",
       "\n",
       "    .dataframe tbody tr th {\n",
       "        vertical-align: top;\n",
       "    }\n",
       "</style>\n",
       "<table border=\"1\" class=\"dataframe\">\n",
       "  <thead>\n",
       "    <tr style=\"text-align: right;\">\n",
       "      <th></th>\n",
       "      <th>RIDAGEYR</th>\n",
       "      <th>RIAGENDR</th>\n",
       "      <th>BMXWT</th>\n",
       "      <th>BMXHT</th>\n",
       "      <th>BMXBMI</th>\n",
       "      <th>BMXLEG</th>\n",
       "      <th>BMXCALF</th>\n",
       "      <th>BMXARML</th>\n",
       "      <th>BMXARMC</th>\n",
       "      <th>BMXWAIST</th>\n",
       "      <th>BMXTRI</th>\n",
       "      <th>BMXSUB</th>\n",
       "      <th>BMXTHICR</th>\n",
       "      <th>RIDRETH1</th>\n",
       "    </tr>\n",
       "    <tr>\n",
       "      <th>SEQN</th>\n",
       "      <th></th>\n",
       "      <th></th>\n",
       "      <th></th>\n",
       "      <th></th>\n",
       "      <th></th>\n",
       "      <th></th>\n",
       "      <th></th>\n",
       "      <th></th>\n",
       "      <th></th>\n",
       "      <th></th>\n",
       "      <th></th>\n",
       "      <th></th>\n",
       "      <th></th>\n",
       "      <th></th>\n",
       "    </tr>\n",
       "  </thead>\n",
       "  <tbody>\n",
       "    <tr>\n",
       "      <th>31131</th>\n",
       "      <td>44</td>\n",
       "      <td>2</td>\n",
       "      <td>75.2</td>\n",
       "      <td>156</td>\n",
       "      <td>30.9</td>\n",
       "      <td>38</td>\n",
       "      <td>36.6</td>\n",
       "      <td>35</td>\n",
       "      <td>35.8</td>\n",
       "      <td>96</td>\n",
       "      <td></td>\n",
       "      <td></td>\n",
       "      <td>53.7</td>\n",
       "      <td>4</td>\n",
       "    </tr>\n",
       "    <tr>\n",
       "      <th>31143</th>\n",
       "      <td>19</td>\n",
       "      <td>1</td>\n",
       "      <td>76.4</td>\n",
       "      <td>184</td>\n",
       "      <td>22.57</td>\n",
       "      <td>49.1</td>\n",
       "      <td>36.7</td>\n",
       "      <td>41.4</td>\n",
       "      <td>28.6</td>\n",
       "      <td>84.2</td>\n",
       "      <td>12.8</td>\n",
       "      <td>7.4</td>\n",
       "      <td>52.4</td>\n",
       "      <td>3</td>\n",
       "    </tr>\n",
       "    <tr>\n",
       "      <th>31151</th>\n",
       "      <td>59</td>\n",
       "      <td>2</td>\n",
       "      <td>82.9</td>\n",
       "      <td>167.6</td>\n",
       "      <td>29.51</td>\n",
       "      <td>34.5</td>\n",
       "      <td>36.5</td>\n",
       "      <td>38.5</td>\n",
       "      <td>39.5</td>\n",
       "      <td>101.2</td>\n",
       "      <td>16.6</td>\n",
       "      <td>32.4</td>\n",
       "      <td>54</td>\n",
       "      <td>4</td>\n",
       "    </tr>\n",
       "    <tr>\n",
       "      <th>31152</th>\n",
       "      <td>27</td>\n",
       "      <td>2</td>\n",
       "      <td>94.1</td>\n",
       "      <td>153.6</td>\n",
       "      <td>39.88</td>\n",
       "      <td>33.8</td>\n",
       "      <td>39.6</td>\n",
       "      <td>34</td>\n",
       "      <td>38.2</td>\n",
       "      <td>130.4</td>\n",
       "      <td>29.4</td>\n",
       "      <td>36</td>\n",
       "      <td>53.9</td>\n",
       "      <td>1</td>\n",
       "    </tr>\n",
       "    <tr>\n",
       "      <th>31156</th>\n",
       "      <td>43</td>\n",
       "      <td>2</td>\n",
       "      <td>79.9</td>\n",
       "      <td>159.5</td>\n",
       "      <td>31.41</td>\n",
       "      <td>39</td>\n",
       "      <td>41.5</td>\n",
       "      <td>34.3</td>\n",
       "      <td>35.5</td>\n",
       "      <td>91.4</td>\n",
       "      <td></td>\n",
       "      <td></td>\n",
       "      <td>57.1</td>\n",
       "      <td>4</td>\n",
       "    </tr>\n",
       "  </tbody>\n",
       "</table>\n",
       "</div>"
      ],
      "text/plain": [
       "       RIDAGEYR  RIAGENDR BMXWT  BMXHT BMXBMI BMXLEG BMXCALF BMXARML BMXARMC  \\\n",
       "SEQN                                                                           \n",
       "31131        44         2  75.2    156   30.9     38    36.6      35    35.8   \n",
       "31143        19         1  76.4    184  22.57   49.1    36.7    41.4    28.6   \n",
       "31151        59         2  82.9  167.6  29.51   34.5    36.5    38.5    39.5   \n",
       "31152        27         2  94.1  153.6  39.88   33.8    39.6      34    38.2   \n",
       "31156        43         2  79.9  159.5  31.41     39    41.5    34.3    35.5   \n",
       "\n",
       "      BMXWAIST BMXTRI BMXSUB BMXTHICR  RIDRETH1  \n",
       "SEQN                                             \n",
       "31131       96                   53.7         4  \n",
       "31143     84.2   12.8    7.4     52.4         3  \n",
       "31151    101.2   16.6   32.4       54         4  \n",
       "31152    130.4   29.4     36     53.9         1  \n",
       "31156     91.4                   57.1         4  "
      ]
     },
     "execution_count": 9,
     "metadata": {},
     "output_type": "execute_result"
    }
   ],
   "source": [
    "data_new.head()"
   ]
  },
  {
   "cell_type": "code",
   "execution_count": 10,
   "metadata": {},
   "outputs": [],
   "source": [
    "# convert object to numeric\n",
    "for m in measurements:\n",
    "    data_new[m] = pd.to_numeric(data_new[m], errors='coerce')"
   ]
  },
  {
   "cell_type": "code",
   "execution_count": 11,
   "metadata": {},
   "outputs": [
    {
     "name": "stdout",
     "output_type": "stream",
     "text": [
      "<class 'pandas.core.frame.DataFrame'>\n",
      "Int64Index: 3592 entries, 31131 to 41473\n",
      "Data columns (total 14 columns):\n",
      "RIDAGEYR    3592 non-null int64\n",
      "RIAGENDR    3592 non-null int64\n",
      "BMXWT       3559 non-null float64\n",
      "BMXHT       3562 non-null float64\n",
      "BMXBMI      3556 non-null float64\n",
      "BMXLEG      3411 non-null float64\n",
      "BMXCALF     3457 non-null float64\n",
      "BMXARML     3475 non-null float64\n",
      "BMXARMC     3475 non-null float64\n",
      "BMXWAIST    3455 non-null float64\n",
      "BMXTRI      3103 non-null float64\n",
      "BMXSUB      2662 non-null float64\n",
      "BMXTHICR    3407 non-null float64\n",
      "RIDRETH1    3592 non-null int64\n",
      "dtypes: float64(11), int64(3)\n",
      "memory usage: 420.9 KB\n"
     ]
    }
   ],
   "source": [
    "data_new.info()"
   ]
  },
  {
   "cell_type": "code",
   "execution_count": 12,
   "metadata": {},
   "outputs": [],
   "source": [
    "# remove the samples containing nulls\n",
    "data_new.dropna(inplace=True)"
   ]
  },
  {
   "cell_type": "code",
   "execution_count": 13,
   "metadata": {},
   "outputs": [
    {
     "data": {
      "text/plain": [
       "(2535, 14)"
      ]
     },
     "execution_count": 13,
     "metadata": {},
     "output_type": "execute_result"
    }
   ],
   "source": [
    "data_new.shape"
   ]
  },
  {
   "cell_type": "code",
   "execution_count": 14,
   "metadata": {
    "scrolled": false
   },
   "outputs": [
    {
     "data": {
      "text/html": [
       "<div>\n",
       "<style>\n",
       "    .dataframe thead tr:only-child th {\n",
       "        text-align: right;\n",
       "    }\n",
       "\n",
       "    .dataframe thead th {\n",
       "        text-align: left;\n",
       "    }\n",
       "\n",
       "    .dataframe tbody tr th {\n",
       "        vertical-align: top;\n",
       "    }\n",
       "</style>\n",
       "<table border=\"1\" class=\"dataframe\">\n",
       "  <thead>\n",
       "    <tr style=\"text-align: right;\">\n",
       "      <th></th>\n",
       "      <th>RIDAGEYR</th>\n",
       "      <th>RIAGENDR</th>\n",
       "      <th>BMXWT</th>\n",
       "      <th>BMXHT</th>\n",
       "      <th>BMXBMI</th>\n",
       "      <th>BMXLEG</th>\n",
       "      <th>BMXCALF</th>\n",
       "      <th>BMXARML</th>\n",
       "      <th>BMXARMC</th>\n",
       "      <th>BMXWAIST</th>\n",
       "      <th>BMXTRI</th>\n",
       "      <th>BMXSUB</th>\n",
       "      <th>BMXTHICR</th>\n",
       "      <th>RIDRETH1</th>\n",
       "    </tr>\n",
       "  </thead>\n",
       "  <tbody>\n",
       "    <tr>\n",
       "      <th>count</th>\n",
       "      <td>2535.000000</td>\n",
       "      <td>2535.000000</td>\n",
       "      <td>2535.000000</td>\n",
       "      <td>2535.000000</td>\n",
       "      <td>2535.000000</td>\n",
       "      <td>2535.000000</td>\n",
       "      <td>2535.000000</td>\n",
       "      <td>2535.000000</td>\n",
       "      <td>2535.000000</td>\n",
       "      <td>2535.000000</td>\n",
       "      <td>2535.000000</td>\n",
       "      <td>2535.000000</td>\n",
       "      <td>2535.000000</td>\n",
       "      <td>2535.000000</td>\n",
       "    </tr>\n",
       "    <tr>\n",
       "      <th>mean</th>\n",
       "      <td>34.407495</td>\n",
       "      <td>1.495069</td>\n",
       "      <td>75.167613</td>\n",
       "      <td>169.299223</td>\n",
       "      <td>26.113321</td>\n",
       "      <td>40.224773</td>\n",
       "      <td>37.861933</td>\n",
       "      <td>37.331795</td>\n",
       "      <td>31.355345</td>\n",
       "      <td>90.921262</td>\n",
       "      <td>17.448718</td>\n",
       "      <td>19.352623</td>\n",
       "      <td>52.163748</td>\n",
       "      <td>2.727022</td>\n",
       "    </tr>\n",
       "    <tr>\n",
       "      <th>std</th>\n",
       "      <td>12.798081</td>\n",
       "      <td>0.500074</td>\n",
       "      <td>16.480784</td>\n",
       "      <td>9.974272</td>\n",
       "      <td>4.670629</td>\n",
       "      <td>3.796772</td>\n",
       "      <td>3.718947</td>\n",
       "      <td>2.789389</td>\n",
       "      <td>4.262982</td>\n",
       "      <td>13.130786</td>\n",
       "      <td>8.058431</td>\n",
       "      <td>7.769431</td>\n",
       "      <td>5.950257</td>\n",
       "      <td>1.095859</td>\n",
       "    </tr>\n",
       "    <tr>\n",
       "      <th>min</th>\n",
       "      <td>18.000000</td>\n",
       "      <td>1.000000</td>\n",
       "      <td>36.700000</td>\n",
       "      <td>142.100000</td>\n",
       "      <td>14.650000</td>\n",
       "      <td>24.200000</td>\n",
       "      <td>24.200000</td>\n",
       "      <td>29.400000</td>\n",
       "      <td>19.000000</td>\n",
       "      <td>56.000000</td>\n",
       "      <td>3.000000</td>\n",
       "      <td>5.000000</td>\n",
       "      <td>29.300000</td>\n",
       "      <td>1.000000</td>\n",
       "    </tr>\n",
       "    <tr>\n",
       "      <th>25%</th>\n",
       "      <td>23.000000</td>\n",
       "      <td>1.000000</td>\n",
       "      <td>63.200000</td>\n",
       "      <td>162.050000</td>\n",
       "      <td>22.765000</td>\n",
       "      <td>37.600000</td>\n",
       "      <td>35.400000</td>\n",
       "      <td>35.300000</td>\n",
       "      <td>28.300000</td>\n",
       "      <td>81.100000</td>\n",
       "      <td>11.000000</td>\n",
       "      <td>13.000000</td>\n",
       "      <td>48.200000</td>\n",
       "      <td>1.000000</td>\n",
       "    </tr>\n",
       "    <tr>\n",
       "      <th>50%</th>\n",
       "      <td>33.000000</td>\n",
       "      <td>1.000000</td>\n",
       "      <td>73.800000</td>\n",
       "      <td>168.800000</td>\n",
       "      <td>25.670000</td>\n",
       "      <td>40.200000</td>\n",
       "      <td>37.700000</td>\n",
       "      <td>37.200000</td>\n",
       "      <td>31.200000</td>\n",
       "      <td>89.800000</td>\n",
       "      <td>16.200000</td>\n",
       "      <td>18.600000</td>\n",
       "      <td>51.700000</td>\n",
       "      <td>3.000000</td>\n",
       "    </tr>\n",
       "    <tr>\n",
       "      <th>75%</th>\n",
       "      <td>45.000000</td>\n",
       "      <td>2.000000</td>\n",
       "      <td>84.550000</td>\n",
       "      <td>176.300000</td>\n",
       "      <td>28.905000</td>\n",
       "      <td>42.800000</td>\n",
       "      <td>40.100000</td>\n",
       "      <td>39.300000</td>\n",
       "      <td>34.200000</td>\n",
       "      <td>99.600000</td>\n",
       "      <td>23.000000</td>\n",
       "      <td>24.900000</td>\n",
       "      <td>55.700000</td>\n",
       "      <td>3.000000</td>\n",
       "    </tr>\n",
       "    <tr>\n",
       "      <th>max</th>\n",
       "      <td>60.000000</td>\n",
       "      <td>2.000000</td>\n",
       "      <td>180.200000</td>\n",
       "      <td>200.700000</td>\n",
       "      <td>47.150000</td>\n",
       "      <td>53.200000</td>\n",
       "      <td>54.000000</td>\n",
       "      <td>48.600000</td>\n",
       "      <td>50.600000</td>\n",
       "      <td>149.500000</td>\n",
       "      <td>42.900000</td>\n",
       "      <td>40.200000</td>\n",
       "      <td>82.700000</td>\n",
       "      <td>4.000000</td>\n",
       "    </tr>\n",
       "  </tbody>\n",
       "</table>\n",
       "</div>"
      ],
      "text/plain": [
       "          RIDAGEYR     RIAGENDR        BMXWT        BMXHT       BMXBMI  \\\n",
       "count  2535.000000  2535.000000  2535.000000  2535.000000  2535.000000   \n",
       "mean     34.407495     1.495069    75.167613   169.299223    26.113321   \n",
       "std      12.798081     0.500074    16.480784     9.974272     4.670629   \n",
       "min      18.000000     1.000000    36.700000   142.100000    14.650000   \n",
       "25%      23.000000     1.000000    63.200000   162.050000    22.765000   \n",
       "50%      33.000000     1.000000    73.800000   168.800000    25.670000   \n",
       "75%      45.000000     2.000000    84.550000   176.300000    28.905000   \n",
       "max      60.000000     2.000000   180.200000   200.700000    47.150000   \n",
       "\n",
       "            BMXLEG      BMXCALF      BMXARML      BMXARMC     BMXWAIST  \\\n",
       "count  2535.000000  2535.000000  2535.000000  2535.000000  2535.000000   \n",
       "mean     40.224773    37.861933    37.331795    31.355345    90.921262   \n",
       "std       3.796772     3.718947     2.789389     4.262982    13.130786   \n",
       "min      24.200000    24.200000    29.400000    19.000000    56.000000   \n",
       "25%      37.600000    35.400000    35.300000    28.300000    81.100000   \n",
       "50%      40.200000    37.700000    37.200000    31.200000    89.800000   \n",
       "75%      42.800000    40.100000    39.300000    34.200000    99.600000   \n",
       "max      53.200000    54.000000    48.600000    50.600000   149.500000   \n",
       "\n",
       "            BMXTRI       BMXSUB     BMXTHICR     RIDRETH1  \n",
       "count  2535.000000  2535.000000  2535.000000  2535.000000  \n",
       "mean     17.448718    19.352623    52.163748     2.727022  \n",
       "std       8.058431     7.769431     5.950257     1.095859  \n",
       "min       3.000000     5.000000    29.300000     1.000000  \n",
       "25%      11.000000    13.000000    48.200000     1.000000  \n",
       "50%      16.200000    18.600000    51.700000     3.000000  \n",
       "75%      23.000000    24.900000    55.700000     3.000000  \n",
       "max      42.900000    40.200000    82.700000     4.000000  "
      ]
     },
     "execution_count": 14,
     "metadata": {},
     "output_type": "execute_result"
    }
   ],
   "source": [
    "data_new.describe()"
   ]
  },
  {
   "cell_type": "code",
   "execution_count": 15,
   "metadata": {},
   "outputs": [
    {
     "data": {
      "text/plain": [
       "RIDRETH1\n",
       "1     654\n",
       "3    1265\n",
       "4     616\n",
       "dtype: int64"
      ]
     },
     "execution_count": 15,
     "metadata": {},
     "output_type": "execute_result"
    }
   ],
   "source": [
    "# checking the number of instances that belong to each RIDRETH1 class\n",
    "data_new.groupby('RIDRETH1').size()"
   ]
  },
  {
   "cell_type": "code",
   "execution_count": 16,
   "metadata": {},
   "outputs": [
    {
     "data": {
      "image/png": "[encoded data removed]",
      "text/plain": [
       "<matplotlib.figure.Figure at 0x7fc94705af28>"
      ]
     },
     "metadata": {},
     "output_type": "display_data"
    }
   ],
   "source": [
    "import matplotlib.pyplot as plt\n",
    "# box plots of varialbles\n",
    "data_new.plot(kind='box', subplots=True, layout=(4, 4), sharex=False, sharey=False)\n",
    "plt.show()"
   ]
  },
  {
   "cell_type": "code",
   "execution_count": 17,
   "metadata": {},
   "outputs": [
    {
     "data": {
      "image/png": "[encoded data removed]",
      "text/plain": [
       "<matplotlib.figure.Figure at 0x7fc947062fd0>"
      ]
     },
     "metadata": {},
     "output_type": "display_data"
    }
   ],
   "source": [
    "# histograms\n",
    "data_new.hist()\n",
    "plt.show()"
   ]
  },
  {
   "cell_type": "code",
   "execution_count": 18,
   "metadata": {},
   "outputs": [
    {
     "data": {
      "image/png": "[encoded data removed]",
      "text/plain": [
       "<matplotlib.figure.Figure at 0x7fc942870be0>"
      ]
     },
     "metadata": {},
     "output_type": "display_data"
    }
   ],
   "source": [
    "# scatter plot matrix\n",
    "from pandas.plotting import scatter_matrix\n",
    "scatter_matrix(data_new)\n",
    "plt.show()"
   ]
  },
  {
   "cell_type": "code",
   "execution_count": 19,
   "metadata": {},
   "outputs": [],
   "source": [
    "# generate target set (y)\n",
    "y = data_new[\"RIDRETH1\"]"
   ]
  },
  {
   "cell_type": "code",
   "execution_count": 20,
   "metadata": {},
   "outputs": [
    {
     "data": {
      "text/plain": [
       "(2535,)"
      ]
     },
     "execution_count": 20,
     "metadata": {},
     "output_type": "execute_result"
    }
   ],
   "source": [
    "y.shape"
   ]
  },
  {
   "cell_type": "code",
   "execution_count": 21,
   "metadata": {},
   "outputs": [],
   "source": [
    "# remove target column from data\n",
    "data_new.drop([\"RIDRETH1\"], axis=1, inplace=True)"
   ]
  },
  {
   "cell_type": "code",
   "execution_count": 22,
   "metadata": {},
   "outputs": [
    {
     "name": "stdout",
     "output_type": "stream",
     "text": [
      "<class 'pandas.core.frame.DataFrame'>\n",
      "Int64Index: 2535 entries, 31143 to 41473\n",
      "Data columns (total 13 columns):\n",
      "RIDAGEYR    2535 non-null int64\n",
      "RIAGENDR    2535 non-null int64\n",
      "BMXWT       2535 non-null float64\n",
      "BMXHT       2535 non-null float64\n",
      "BMXBMI      2535 non-null float64\n",
      "BMXLEG      2535 non-null float64\n",
      "BMXCALF     2535 non-null float64\n",
      "BMXARML     2535 non-null float64\n",
      "BMXARMC     2535 non-null float64\n",
      "BMXWAIST    2535 non-null float64\n",
      "BMXTRI      2535 non-null float64\n",
      "BMXSUB      2535 non-null float64\n",
      "BMXTHICR    2535 non-null float64\n",
      "dtypes: float64(11), int64(2)\n",
      "memory usage: 277.3 KB\n"
     ]
    }
   ],
   "source": [
    "data_new.info()"
   ]
  },
  {
   "cell_type": "code",
   "execution_count": 23,
   "metadata": {},
   "outputs": [],
   "source": [
    "# generate the set of features (X)\n",
    "X = data_new.values"
   ]
  },
  {
   "cell_type": "code",
   "execution_count": 24,
   "metadata": {},
   "outputs": [
    {
     "data": {
      "text/plain": [
       "(2535, 13)"
      ]
     },
     "execution_count": 24,
     "metadata": {},
     "output_type": "execute_result"
    }
   ],
   "source": [
    "X.shape"
   ]
  },
  {
   "cell_type": "code",
   "execution_count": 25,
   "metadata": {},
   "outputs": [],
   "source": [
    "# Split the X and y sets into train and validation sets\n",
    "from sklearn.model_selection import train_test_split\n",
    "X_train, X_validation, y_train, y_validation = train_test_split(X, y, random_state=0)"
   ]
  },
  {
   "cell_type": "code",
   "execution_count": 26,
   "metadata": {},
   "outputs": [],
   "source": [
    "# transform features\n",
    "from sklearn.preprocessing import MinMaxScaler\n",
    "scaler = MinMaxScaler()\n",
    "X_train_scale = scaler.fit_transform(X_train)\n",
    "X_validation_scale = scaler.transform(X_validation)"
   ]
  },
  {
   "cell_type": "code",
   "execution_count": 27,
   "metadata": {},
   "outputs": [],
   "source": [
    "# import machine learning algorithms\n",
    "from sklearn.metrics import classification_report\n",
    "from sklearn.metrics import confusion_matrix\n",
    "from sklearn.metrics import accuracy_score\n",
    "from sklearn.linear_model import LogisticRegression\n",
    "from sklearn.discriminant_analysis import LinearDiscriminantAnalysis\n",
    "from sklearn.neighbors import KNeighborsClassifier\n",
    "from sklearn.tree import DecisionTreeClassifier\n",
    "from sklearn.ensemble import RandomForestClassifier\n",
    "from sklearn.ensemble import ExtraTreesClassifier\n",
    "from sklearn.naive_bayes import GaussianNB\n",
    "from sklearn.svm import SVC\n",
    "from sklearn.neural_network import MLPClassifier\n",
    "from sklearn.ensemble import GradientBoostingClassifier"
   ]
  },
  {
   "cell_type": "code",
   "execution_count": 28,
   "metadata": {},
   "outputs": [
    {
     "name": "stdout",
     "output_type": "stream",
     "text": [
      "LR: 0.635409 (0.040810)\n",
      "LDA: 0.647506 (0.035888)\n"
     ]
    },
    {
     "name": "stderr",
     "output_type": "stream",
     "text": [
      "/usr/local/lib/python3.5/dist-packages/sklearn/discriminant_analysis.py:442: UserWarning: The priors do not sum to 1. Renormalizing\n",
      "  UserWarning)\n"
     ]
    },
    {
     "name": "stdout",
     "output_type": "stream",
     "text": [
      "RFC: 0.581805 (0.024939)\n",
      "ETC: 0.572833 (0.033037)\n",
      "KNN: 0.543910 (0.020941)\n",
      "CART: 0.502896 (0.024074)\n",
      "NB: 0.492339 (0.041339)\n",
      "SVM: 0.561805 (0.018185)\n",
      "NN: 0.650672 (0.034829)\n",
      "GB: 0.639622 (0.034624)\n"
     ]
    }
   ],
   "source": [
    "# Spot Check Algorithms\n",
    "models = []\n",
    "models.append(('LR', LogisticRegression()))\n",
    "models.append(('LDA', LinearDiscriminantAnalysis()))\n",
    "models.append(('RFC', RandomForestClassifier()))\n",
    "models.append(('ETC', ExtraTreesClassifier()))\n",
    "models.append(('KNN', KNeighborsClassifier()))\n",
    "models.append(('CART', DecisionTreeClassifier()))\n",
    "models.append(('NB', GaussianNB()))\n",
    "models.append(('SVM', SVC()))\n",
    "models.append((\"NN\", MLPClassifier()))\n",
    "models.append((\"GB\", GradientBoostingClassifier()))\n",
    "\n",
    "from sklearn import model_selection\n",
    "from sklearn.model_selection import cross_val_score\n",
    "\n",
    "# evaluate each model in turn\n",
    "results = []\n",
    "names = []\n",
    "for name, model in models:\n",
    "    kfold = model_selection.KFold(n_splits=10, random_state=10)\n",
    "    cv_results = cross_val_score(model, X_train_scale, y_train, cv=kfold, scoring='accuracy')\n",
    "    results.append(cv_results)\n",
    "    names.append(name)\n",
    "    msg = \"%s: %f (%f)\" % (name, cv_results.mean(), cv_results.std())\n",
    "    print(msg)"
   ]
  },
  {
   "cell_type": "code",
   "execution_count": 29,
   "metadata": {
    "scrolled": true
   },
   "outputs": [
    {
     "data": {
      "image/png": "[encoded data removed]",
      "text/plain": [
       "<matplotlib.figure.Figure at 0x7fc93ff70b38>"
      ]
     },
     "metadata": {},
     "output_type": "display_data"
    }
   ],
   "source": [
    "# Compare Algorithms\n",
    "fig = plt.figure()\n",
    "fig.suptitle('Algorithm Comparison')\n",
    "ax = fig.add_subplot(111)\n",
    "plt.boxplot(results)\n",
    "ax.set_xticklabels(names)\n",
    "plt.show()"
   ]
  },
  {
   "cell_type": "code",
   "execution_count": 30,
   "metadata": {},
   "outputs": [
    {
     "name": "stdout",
     "output_type": "stream",
     "text": [
      "alpha:  0.01\n",
      "Accuracy score (training): 0.670\n",
      "Accuracy score (validation): 0.658\n",
      "\n",
      "alpha:  0.05\n",
      "Accuracy score (training): 0.672\n",
      "Accuracy score (validation): 0.655\n",
      "\n",
      "alpha:  0.1\n",
      "Accuracy score (training): 0.668\n",
      "Accuracy score (validation): 0.661\n",
      "\n",
      "alpha:  0.25\n",
      "Accuracy score (training): 0.664\n",
      "Accuracy score (validation): 0.669\n",
      "\n",
      "alpha:  0.5\n",
      "Accuracy score (training): 0.663\n",
      "Accuracy score (validation): 0.666\n",
      "\n",
      "alpha:  1\n",
      "Accuracy score (training): 0.649\n",
      "Accuracy score (validation): 0.656\n",
      "\n",
      "alpha:  10\n",
      "Accuracy score (training): 0.501\n",
      "Accuracy score (validation): 0.494\n",
      "\n"
     ]
    }
   ],
   "source": [
    "# train with Neural Networks algorithm\n",
    "# compute the accuracy score with different alpha when training on train and validation sets\n",
    "\n",
    "alphas = [0.01, 0.05, 0.1, 0.25, 0.5, 1, 10]\n",
    "for alpha in alphas:\n",
    "    nn = MLPClassifier(hidden_layer_sizes=(100, 100), alpha=alpha, random_state=0)\n",
    "    nn.fit(X_train_scale, y_train)\n",
    "    print(\"alpha: \", alpha)\n",
    "    print(\"Accuracy score (training): {0:.3f}\".format(nn.score(X_train_scale, y_train)))\n",
    "    print(\"Accuracy score (validation): {0:.3f}\".format(nn.score(X_validation_scale, y_validation)))\n",
    "    print()"
   ]
  },
  {
   "cell_type": "code",
   "execution_count": 31,
   "metadata": {},
   "outputs": [
    {
     "name": "stdout",
     "output_type": "stream",
     "text": [
      "Confusion Matrix:\n",
      "[[105  58   6]\n",
      " [ 39 248  26]\n",
      " [ 18  63  71]]\n",
      "\n",
      "Classification Report\n",
      "             precision    recall  f1-score   support\n",
      "\n",
      "          1       0.65      0.62      0.63       169\n",
      "          3       0.67      0.79      0.73       313\n",
      "          4       0.69      0.47      0.56       152\n",
      "\n",
      "avg / total       0.67      0.67      0.66       634\n",
      "\n"
     ]
    }
   ],
   "source": [
    "# Output confusion matrix and classification report of Neural Networks algorithm on validation set\n",
    "\n",
    "nn = MLPClassifier(hidden_layer_sizes=(100, 100), alpha=0.25, random_state=0)\n",
    "nn.fit(X_train_scale, y_train)\n",
    "predictions = nn.predict(X_validation_scale)\n",
    "\n",
    "print(\"Confusion Matrix:\")\n",
    "print(confusion_matrix(y_validation, predictions))\n",
    "print()\n",
    "print(\"Classification Report\")\n",
    "print(classification_report(y_validation, predictions))"
   ]
  },
  {
   "cell_type": "code",
   "execution_count": 32,
   "metadata": {},
   "outputs": [
    {
     "name": "stdout",
     "output_type": "stream",
     "text": [
      "n_components:  3\n",
      "Accuracy score (training): 0.656\n",
      "Accuracy score (validation): 0.669\n",
      "\n",
      "n_components:  5\n",
      "Accuracy score (training): 0.656\n",
      "Accuracy score (validation): 0.669\n",
      "\n",
      "n_components:  10\n",
      "Accuracy score (training): 0.656\n",
      "Accuracy score (validation): 0.669\n",
      "\n"
     ]
    }
   ],
   "source": [
    "# train with Linear Discriminant Analysis algorithm\n",
    "# compute the accuracy score with different numbers of components when training on train and validation sets\n",
    "\n",
    "n_components = [3, 5, 10]\n",
    "for n_component in n_components:\n",
    "    lda = LinearDiscriminantAnalysis(n_components=n_component, solver=\"svd\")\n",
    "    lda.fit(X_train_scale, y_train)\n",
    "    print(\"n_components: \", n_component)\n",
    "    print(\"Accuracy score (training): {0:.3f}\".format(lda.score(X_train_scale, y_train)))\n",
    "    print(\"Accuracy score (validation): {0:.3f}\".format(lda.score(X_validation_scale, y_validation)))\n",
    "    print()    "
   ]
  },
  {
   "cell_type": "code",
   "execution_count": 33,
   "metadata": {},
   "outputs": [
    {
     "name": "stdout",
     "output_type": "stream",
     "text": [
      "Confusion Matrix:\n",
      "[[105  58   6]\n",
      " [ 39 248  26]\n",
      " [ 18  63  71]]\n",
      "\n",
      "Classification Report\n",
      "             precision    recall  f1-score   support\n",
      "\n",
      "          1       0.65      0.62      0.63       169\n",
      "          3       0.67      0.79      0.73       313\n",
      "          4       0.69      0.47      0.56       152\n",
      "\n",
      "avg / total       0.67      0.67      0.66       634\n",
      "\n"
     ]
    }
   ],
   "source": [
    "# Output confusion matrix and classification report of Linear Discriminant Analysis algorithm on validation set\n",
    "\n",
    "lda = LinearDiscriminantAnalysis(n_components=3, solver=\"svd\")\n",
    "lda.fit(X_train_scale, y_train)\n",
    "predictions = nn.predict(X_validation_scale)\n",
    "\n",
    "print(\"Confusion Matrix:\")\n",
    "print(confusion_matrix(y_validation, predictions))\n",
    "print()\n",
    "print(\"Classification Report\")\n",
    "print(classification_report(y_validation, predictions))"
   ]
  },
  {
   "cell_type": "code",
   "execution_count": 34,
   "metadata": {},
   "outputs": [
    {
     "name": "stdout",
     "output_type": "stream",
     "text": [
      "Learning rate:  0.01\n",
      "Accuracy score (training): 0.506\n",
      "Accuracy score (validation): 0.495\n",
      "\n",
      "Learning rate:  0.05\n",
      "Accuracy score (training): 0.563\n",
      "Accuracy score (validation): 0.547\n",
      "\n",
      "Learning rate:  0.1\n",
      "Accuracy score (training): 0.582\n",
      "Accuracy score (validation): 0.558\n",
      "\n",
      "Learning rate:  0.25\n",
      "Accuracy score (training): 0.629\n",
      "Accuracy score (validation): 0.632\n",
      "\n",
      "Learning rate:  0.5\n",
      "Accuracy score (training): 0.683\n",
      "Accuracy score (validation): 0.640\n",
      "\n",
      "Learning rate:  0.75\n",
      "Accuracy score (training): 0.714\n",
      "Accuracy score (validation): 0.644\n",
      "\n",
      "Learning rate:  1\n",
      "Accuracy score (training): 0.720\n",
      "Accuracy score (validation): 0.645\n",
      "\n",
      "Learning rate:  5\n",
      "Accuracy score (training): 0.306\n",
      "Accuracy score (validation): 0.298\n",
      "\n"
     ]
    }
   ],
   "source": [
    "# train with Gradient Boosting algorithm\n",
    "# compute the accuracy score with different learning rate when training on train and validation sets\n",
    "\n",
    "learning_rates = [0.01, 0.05, 0.1, 0.25, 0.5, 0.75, 1, 5]\n",
    "for learning_rate in learning_rates:\n",
    "    gb = GradientBoostingClassifier(criterion=\"mse\", n_estimators=50, learning_rate = learning_rate, max_features=4, max_depth = 1, random_state = 0)\n",
    "    gb.fit(X_train_scale, y_train)\n",
    "    print(\"Learning rate: \", learning_rate)\n",
    "    print(\"Accuracy score (training): {0:.3f}\".format(gb.score(X_train_scale, y_train)))\n",
    "    print(\"Accuracy score (validation): {0:.3f}\".format(gb.score(X_validation_scale, y_validation)))\n",
    "    print()"
   ]
  },
  {
   "cell_type": "code",
   "execution_count": 35,
   "metadata": {},
   "outputs": [
    {
     "name": "stdout",
     "output_type": "stream",
     "text": [
      "Confusion Matrix:\n",
      "[[ 78  86   5]\n",
      " [ 23 270  20]\n",
      " [ 12  87  53]]\n",
      "\n",
      "Classification Report\n",
      "             precision    recall  f1-score   support\n",
      "\n",
      "          1       0.69      0.46      0.55       169\n",
      "          3       0.61      0.86      0.71       313\n",
      "          4       0.68      0.35      0.46       152\n",
      "\n",
      "avg / total       0.65      0.63      0.61       634\n",
      "\n"
     ]
    }
   ],
   "source": [
    "# Output confusion matrix and classification report of Gradient Boosting algorithm on validation set\n",
    "\n",
    "gb = GradientBoostingClassifier(criterion=\"mse\", n_estimators=50, learning_rate = 0.25, max_features=4, max_depth = 1, random_state = 0)\n",
    "gb.fit(X_train_scale, y_train)\n",
    "predictions = gb.predict(X_validation_scale)\n",
    "\n",
    "print(\"Confusion Matrix:\")\n",
    "print(confusion_matrix(y_validation, predictions))\n",
    "print()\n",
    "print(\"Classification Report\")\n",
    "print(classification_report(y_validation, predictions))"
   ]
  },
  {
   "cell_type": "code",
   "execution_count": null,
   "metadata": {},
   "outputs": [],
   "source": []
  }
 ],
 "metadata": {
  "kernelspec": {
   "display_name": "Python 3",
   "language": "python",
   "name": "python3"
  },
  "language_info": {
   "codemirror_mode": {
    "name": "ipython",
    "version": 3
   },
   "file_extension": ".py",
   "mimetype": "text/x-python",
   "name": "python",
   "nbconvert_exporter": "python",
   "pygments_lexer": "ipython3",
   "version": "3.5.2"
  }
 },
 "nbformat": 4,
 "nbformat_minor": 2
}
