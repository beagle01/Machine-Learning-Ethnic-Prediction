{
 "cells": [
  {
   "cell_type": "code",
   "execution_count": 1,
   "metadata": {
    "collapsed": true
   },
   "outputs": [],
   "source": [
    "import pandas as pd"
   ]
  },
  {
   "cell_type": "code",
   "execution_count": 2,
   "metadata": {
    "collapsed": true
   },
   "outputs": [],
   "source": [
    "data = pd.read_table(r'NHANES-ICRSR25504-0013-Data.tsv', low_memory=False)"
   ]
  },
  {
   "cell_type": "code",
   "execution_count": 3,
   "metadata": {},
   "outputs": [
    {
     "name": "stdout",
     "output_type": "stream",
     "text": [
      "['SEQN', 'BMDSTATS', 'BMXWT', 'BMIWT', 'BMXRECUM', 'BMIRECUM', 'BMXHEAD', 'BMIHEAD', 'BMXHT', 'BMIHT', 'BMXBMI', 'BMXLEG', 'BMILEG', 'BMXCALF', 'BMICALF', 'BMXARML', 'BMIARML', 'BMXARMC', 'BMIARMC', 'BMXWAIST', 'BMIWAIST', 'BMXTHICR', 'BMITHICR', 'BMXTRI', 'BMITRI', 'BMXSUB', 'BMISUB', 'SDDSRVYR', 'RIDSTATR', 'RIDEXMON', 'RIAGENDR', 'RIDAGEYR', 'RIDAGEMN', 'RIDAGEEX', 'RIDRETH1', 'DMQMILIT', 'DMDBORN', 'DMDCITZN', 'DMDYRSUS', 'DMDEDUC3', 'DMDEDUC2', 'DMDSCHOL', 'DMDMARTL', 'DMDHHSIZ', 'DMDFMSIZ', 'INDHHINC', 'INDFMINC', 'INDFMPIR', 'RIDEXPRG', 'DMDHRGND', 'DMDHRAGE', 'DMDHRBRN', 'DMDHREDU', 'DMDHRMAR', 'DMDHSEDU', 'SIALANG', 'SIAPROXY', 'SIAINTRP', 'FIALANG', 'FIAPROXY', 'FIAINTRP', 'MIALANG', 'MIAPROXY', 'MIAINTRP', 'AIALANG', 'WTINT2YR', 'WTMEC2YR', 'SDMVPSU', 'SDMVSTRA']\n"
     ]
    }
   ],
   "source": [
    "# listing all column names\n",
    "print list(data)"
   ]
  },
  {
   "cell_type": "code",
   "execution_count": 4,
   "metadata": {
    "collapsed": true
   },
   "outputs": [],
   "source": [
    "# generating a new DataFrame for adults at ages between 18 and 60\n",
    "sub = data[(data['RIDAGEYR'] >= 18) & (data['RIDAGEYR'] <= 60)]"
   ]
  },
  {
   "cell_type": "code",
   "execution_count": 5,
   "metadata": {},
   "outputs": [
    {
     "data": {
      "text/plain": [
       "RIDRETH1\n",
       "1     934\n",
       "2     145\n",
       "3    1647\n",
       "4    1011\n",
       "5     189\n",
       "dtype: int64"
      ]
     },
     "execution_count": 5,
     "metadata": {},
     "output_type": "execute_result"
    }
   ],
   "source": [
    "sub.groupby('RIDRETH1').size()"
   ]
  },
  {
   "cell_type": "markdown",
   "metadata": {},
   "source": [
    "RIDRETH1 2 and 5 has a much smaller sample number than other RIDRETH1 groups. I'll exclude RIDRETH1 2 and 5 when evaluating algorithms."
   ]
  },
  {
   "cell_type": "code",
   "execution_count": 6,
   "metadata": {
    "collapsed": true
   },
   "outputs": [],
   "source": [
    "# generating a new DataFrame excluding RIDRETH1 2 and 5\n",
    "sub = sub[(sub['RIDRETH1'] != 2) & (sub['RIDRETH1'] != 5)]"
   ]
  },
  {
   "cell_type": "code",
   "execution_count": 7,
   "metadata": {
    "collapsed": true
   },
   "outputs": [],
   "source": [
    "# generating a new DataFrame including variables of detectable body measurements, gender and age.\n",
    "response_var = ['RIDRETH1']\n",
    "explanatory_var = ['BMXWT', 'BMXHT', 'BMXBMI', 'BMXLEG', 'BMXCALF','BMXARML', 'BMXARMC', 'BMXWAIST', 'BMXTRI', \n",
    "                   'BMXSUB', 'BMXTHICR', 'RIAGENDR', 'RIDAGEYR']\n",
    "sub1 = sub[explanatory_var + response_var]"
   ]
  },
  {
   "cell_type": "code",
   "execution_count": 8,
   "metadata": {},
   "outputs": [
    {
     "data": {
      "text/plain": [
       "(3592, 14)"
      ]
     },
     "execution_count": 8,
     "metadata": {},
     "output_type": "execute_result"
    }
   ],
   "source": [
    "# shape of dataset sub1\n",
    "sub1.shape"
   ]
  },
  {
   "cell_type": "code",
   "execution_count": 9,
   "metadata": {
    "scrolled": true
   },
   "outputs": [
    {
     "data": {
      "text/html": [
       "<div>\n",
       "<style>\n",
       "    .dataframe thead tr:only-child th {\n",
       "        text-align: right;\n",
       "    }\n",
       "\n",
       "    .dataframe thead th {\n",
       "        text-align: left;\n",
       "    }\n",
       "\n",
       "    .dataframe tbody tr th {\n",
       "        vertical-align: top;\n",
       "    }\n",
       "</style>\n",
       "<table border=\"1\" class=\"dataframe\">\n",
       "  <thead>\n",
       "    <tr style=\"text-align: right;\">\n",
       "      <th></th>\n",
       "      <th>BMXWT</th>\n",
       "      <th>BMXHT</th>\n",
       "      <th>BMXBMI</th>\n",
       "      <th>BMXLEG</th>\n",
       "      <th>BMXCALF</th>\n",
       "      <th>BMXARML</th>\n",
       "      <th>BMXARMC</th>\n",
       "      <th>BMXWAIST</th>\n",
       "      <th>BMXTRI</th>\n",
       "      <th>BMXSUB</th>\n",
       "      <th>BMXTHICR</th>\n",
       "      <th>RIAGENDR</th>\n",
       "      <th>RIDAGEYR</th>\n",
       "      <th>RIDRETH1</th>\n",
       "    </tr>\n",
       "  </thead>\n",
       "  <tbody>\n",
       "    <tr>\n",
       "      <th>4</th>\n",
       "      <td>75.2</td>\n",
       "      <td>156</td>\n",
       "      <td>30.9</td>\n",
       "      <td>38</td>\n",
       "      <td>36.6</td>\n",
       "      <td>35</td>\n",
       "      <td>35.8</td>\n",
       "      <td>96</td>\n",
       "      <td></td>\n",
       "      <td></td>\n",
       "      <td>53.7</td>\n",
       "      <td>2</td>\n",
       "      <td>44</td>\n",
       "      <td>4</td>\n",
       "    </tr>\n",
       "    <tr>\n",
       "      <th>15</th>\n",
       "      <td>76.4</td>\n",
       "      <td>184</td>\n",
       "      <td>22.57</td>\n",
       "      <td>49.1</td>\n",
       "      <td>36.7</td>\n",
       "      <td>41.4</td>\n",
       "      <td>28.6</td>\n",
       "      <td>84.2</td>\n",
       "      <td>12.8</td>\n",
       "      <td>7.4</td>\n",
       "      <td>52.4</td>\n",
       "      <td>1</td>\n",
       "      <td>19</td>\n",
       "      <td>3</td>\n",
       "    </tr>\n",
       "    <tr>\n",
       "      <th>23</th>\n",
       "      <td>82.9</td>\n",
       "      <td>167.6</td>\n",
       "      <td>29.51</td>\n",
       "      <td>34.5</td>\n",
       "      <td>36.5</td>\n",
       "      <td>38.5</td>\n",
       "      <td>39.5</td>\n",
       "      <td>101.2</td>\n",
       "      <td>16.6</td>\n",
       "      <td>32.4</td>\n",
       "      <td>54</td>\n",
       "      <td>2</td>\n",
       "      <td>59</td>\n",
       "      <td>4</td>\n",
       "    </tr>\n",
       "    <tr>\n",
       "      <th>24</th>\n",
       "      <td>94.1</td>\n",
       "      <td>153.6</td>\n",
       "      <td>39.88</td>\n",
       "      <td>33.8</td>\n",
       "      <td>39.6</td>\n",
       "      <td>34</td>\n",
       "      <td>38.2</td>\n",
       "      <td>130.4</td>\n",
       "      <td>29.4</td>\n",
       "      <td>36</td>\n",
       "      <td>53.9</td>\n",
       "      <td>2</td>\n",
       "      <td>27</td>\n",
       "      <td>1</td>\n",
       "    </tr>\n",
       "    <tr>\n",
       "      <th>28</th>\n",
       "      <td>79.9</td>\n",
       "      <td>159.5</td>\n",
       "      <td>31.41</td>\n",
       "      <td>39</td>\n",
       "      <td>41.5</td>\n",
       "      <td>34.3</td>\n",
       "      <td>35.5</td>\n",
       "      <td>91.4</td>\n",
       "      <td></td>\n",
       "      <td></td>\n",
       "      <td>57.1</td>\n",
       "      <td>2</td>\n",
       "      <td>43</td>\n",
       "      <td>4</td>\n",
       "    </tr>\n",
       "  </tbody>\n",
       "</table>\n",
       "</div>"
      ],
      "text/plain": [
       "   BMXWT  BMXHT BMXBMI BMXLEG BMXCALF BMXARML BMXARMC BMXWAIST BMXTRI BMXSUB  \\\n",
       "4   75.2    156   30.9     38    36.6      35    35.8       96                 \n",
       "15  76.4    184  22.57   49.1    36.7    41.4    28.6     84.2   12.8    7.4   \n",
       "23  82.9  167.6  29.51   34.5    36.5    38.5    39.5    101.2   16.6   32.4   \n",
       "24  94.1  153.6  39.88   33.8    39.6      34    38.2    130.4   29.4     36   \n",
       "28  79.9  159.5  31.41     39    41.5    34.3    35.5     91.4                 \n",
       "\n",
       "   BMXTHICR  RIAGENDR  RIDAGEYR  RIDRETH1  \n",
       "4      53.7         2        44         4  \n",
       "15     52.4         1        19         3  \n",
       "23       54         2        59         4  \n",
       "24     53.9         2        27         1  \n",
       "28     57.1         2        43         4  "
      ]
     },
     "execution_count": 9,
     "metadata": {},
     "output_type": "execute_result"
    }
   ],
   "source": [
    "# first 5 rows of dataset subm1\n",
    "sub1.head()"
   ]
  },
  {
   "cell_type": "code",
   "execution_count": null,
   "metadata": {
    "collapsed": true
   },
   "outputs": [],
   "source": [
    "# changing variables to numeric\n",
    "for colname in explanatory_var:\n",
    "    sub1[colname] = pd.to_numeric(sub1[colname], errors='coerce')"
   ]
  },
  {
   "cell_type": "code",
   "execution_count": 11,
   "metadata": {},
   "outputs": [
    {
     "name": "stdout",
     "output_type": "stream",
     "text": [
      "<class 'pandas.core.frame.DataFrame'>\n",
      "Int64Index: 3592 entries, 4 to 9948\n",
      "Data columns (total 14 columns):\n",
      "BMXWT       3559 non-null float64\n",
      "BMXHT       3562 non-null float64\n",
      "BMXBMI      3556 non-null float64\n",
      "BMXLEG      3411 non-null float64\n",
      "BMXCALF     3457 non-null float64\n",
      "BMXARML     3475 non-null float64\n",
      "BMXARMC     3475 non-null float64\n",
      "BMXWAIST    3455 non-null float64\n",
      "BMXTRI      3103 non-null float64\n",
      "BMXSUB      2662 non-null float64\n",
      "BMXTHICR    3407 non-null float64\n",
      "RIAGENDR    3592 non-null int64\n",
      "RIDAGEYR    3592 non-null int64\n",
      "RIDRETH1    3592 non-null int64\n",
      "dtypes: float64(11), int64(3)\n",
      "memory usage: 420.9 KB\n"
     ]
    }
   ],
   "source": [
    "sub1.info()"
   ]
  },
  {
   "cell_type": "code",
   "execution_count": 13,
   "metadata": {
    "collapsed": true
   },
   "outputs": [],
   "source": [
    "# recode RIDRETH1\n",
    "sub1['RIDRETH1'].replace(to_replace=[1, 3, 4], value=['Mexican_American',  \n",
    "                                                      'White_American', \n",
    "                                                      'Black_American'], inplace=True)"
   ]
  },
  {
   "cell_type": "code",
   "execution_count": 14,
   "metadata": {},
   "outputs": [
    {
     "data": {
      "text/html": [
       "<div>\n",
       "<style>\n",
       "    .dataframe thead tr:only-child th {\n",
       "        text-align: right;\n",
       "    }\n",
       "\n",
       "    .dataframe thead th {\n",
       "        text-align: left;\n",
       "    }\n",
       "\n",
       "    .dataframe tbody tr th {\n",
       "        vertical-align: top;\n",
       "    }\n",
       "</style>\n",
       "<table border=\"1\" class=\"dataframe\">\n",
       "  <thead>\n",
       "    <tr style=\"text-align: right;\">\n",
       "      <th></th>\n",
       "      <th>BMXWT</th>\n",
       "      <th>BMXHT</th>\n",
       "      <th>BMXBMI</th>\n",
       "      <th>BMXLEG</th>\n",
       "      <th>BMXCALF</th>\n",
       "      <th>BMXARML</th>\n",
       "      <th>BMXARMC</th>\n",
       "      <th>BMXWAIST</th>\n",
       "      <th>BMXTRI</th>\n",
       "      <th>BMXSUB</th>\n",
       "      <th>BMXTHICR</th>\n",
       "      <th>RIAGENDR</th>\n",
       "      <th>RIDAGEYR</th>\n",
       "    </tr>\n",
       "  </thead>\n",
       "  <tbody>\n",
       "    <tr>\n",
       "      <th>count</th>\n",
       "      <td>2535.000000</td>\n",
       "      <td>2535.000000</td>\n",
       "      <td>2535.000000</td>\n",
       "      <td>2535.000000</td>\n",
       "      <td>2535.000000</td>\n",
       "      <td>2535.000000</td>\n",
       "      <td>2535.000000</td>\n",
       "      <td>2535.000000</td>\n",
       "      <td>2535.000000</td>\n",
       "      <td>2535.000000</td>\n",
       "      <td>2535.000000</td>\n",
       "      <td>2535.000000</td>\n",
       "      <td>2535.000000</td>\n",
       "    </tr>\n",
       "    <tr>\n",
       "      <th>mean</th>\n",
       "      <td>75.167613</td>\n",
       "      <td>169.299223</td>\n",
       "      <td>26.113321</td>\n",
       "      <td>40.224773</td>\n",
       "      <td>37.861933</td>\n",
       "      <td>37.331795</td>\n",
       "      <td>31.355345</td>\n",
       "      <td>90.921262</td>\n",
       "      <td>17.448718</td>\n",
       "      <td>19.352623</td>\n",
       "      <td>52.163748</td>\n",
       "      <td>1.495069</td>\n",
       "      <td>34.407495</td>\n",
       "    </tr>\n",
       "    <tr>\n",
       "      <th>std</th>\n",
       "      <td>16.480784</td>\n",
       "      <td>9.974272</td>\n",
       "      <td>4.670629</td>\n",
       "      <td>3.796772</td>\n",
       "      <td>3.718947</td>\n",
       "      <td>2.789389</td>\n",
       "      <td>4.262982</td>\n",
       "      <td>13.130786</td>\n",
       "      <td>8.058431</td>\n",
       "      <td>7.769431</td>\n",
       "      <td>5.950257</td>\n",
       "      <td>0.500074</td>\n",
       "      <td>12.798081</td>\n",
       "    </tr>\n",
       "    <tr>\n",
       "      <th>min</th>\n",
       "      <td>36.700000</td>\n",
       "      <td>142.100000</td>\n",
       "      <td>14.650000</td>\n",
       "      <td>24.200000</td>\n",
       "      <td>24.200000</td>\n",
       "      <td>29.400000</td>\n",
       "      <td>19.000000</td>\n",
       "      <td>56.000000</td>\n",
       "      <td>3.000000</td>\n",
       "      <td>5.000000</td>\n",
       "      <td>29.300000</td>\n",
       "      <td>1.000000</td>\n",
       "      <td>18.000000</td>\n",
       "    </tr>\n",
       "    <tr>\n",
       "      <th>25%</th>\n",
       "      <td>63.200000</td>\n",
       "      <td>162.050000</td>\n",
       "      <td>22.765000</td>\n",
       "      <td>37.600000</td>\n",
       "      <td>35.400000</td>\n",
       "      <td>35.300000</td>\n",
       "      <td>28.300000</td>\n",
       "      <td>81.100000</td>\n",
       "      <td>11.000000</td>\n",
       "      <td>13.000000</td>\n",
       "      <td>48.200000</td>\n",
       "      <td>1.000000</td>\n",
       "      <td>23.000000</td>\n",
       "    </tr>\n",
       "    <tr>\n",
       "      <th>50%</th>\n",
       "      <td>73.800000</td>\n",
       "      <td>168.800000</td>\n",
       "      <td>25.670000</td>\n",
       "      <td>40.200000</td>\n",
       "      <td>37.700000</td>\n",
       "      <td>37.200000</td>\n",
       "      <td>31.200000</td>\n",
       "      <td>89.800000</td>\n",
       "      <td>16.200000</td>\n",
       "      <td>18.600000</td>\n",
       "      <td>51.700000</td>\n",
       "      <td>1.000000</td>\n",
       "      <td>33.000000</td>\n",
       "    </tr>\n",
       "    <tr>\n",
       "      <th>75%</th>\n",
       "      <td>84.550000</td>\n",
       "      <td>176.300000</td>\n",
       "      <td>28.905000</td>\n",
       "      <td>42.800000</td>\n",
       "      <td>40.100000</td>\n",
       "      <td>39.300000</td>\n",
       "      <td>34.200000</td>\n",
       "      <td>99.600000</td>\n",
       "      <td>23.000000</td>\n",
       "      <td>24.900000</td>\n",
       "      <td>55.700000</td>\n",
       "      <td>2.000000</td>\n",
       "      <td>45.000000</td>\n",
       "    </tr>\n",
       "    <tr>\n",
       "      <th>max</th>\n",
       "      <td>180.200000</td>\n",
       "      <td>200.700000</td>\n",
       "      <td>47.150000</td>\n",
       "      <td>53.200000</td>\n",
       "      <td>54.000000</td>\n",
       "      <td>48.600000</td>\n",
       "      <td>50.600000</td>\n",
       "      <td>149.500000</td>\n",
       "      <td>42.900000</td>\n",
       "      <td>40.200000</td>\n",
       "      <td>82.700000</td>\n",
       "      <td>2.000000</td>\n",
       "      <td>60.000000</td>\n",
       "    </tr>\n",
       "  </tbody>\n",
       "</table>\n",
       "</div>"
      ],
      "text/plain": [
       "             BMXWT        BMXHT       BMXBMI       BMXLEG      BMXCALF  \\\n",
       "count  2535.000000  2535.000000  2535.000000  2535.000000  2535.000000   \n",
       "mean     75.167613   169.299223    26.113321    40.224773    37.861933   \n",
       "std      16.480784     9.974272     4.670629     3.796772     3.718947   \n",
       "min      36.700000   142.100000    14.650000    24.200000    24.200000   \n",
       "25%      63.200000   162.050000    22.765000    37.600000    35.400000   \n",
       "50%      73.800000   168.800000    25.670000    40.200000    37.700000   \n",
       "75%      84.550000   176.300000    28.905000    42.800000    40.100000   \n",
       "max     180.200000   200.700000    47.150000    53.200000    54.000000   \n",
       "\n",
       "           BMXARML      BMXARMC     BMXWAIST       BMXTRI       BMXSUB  \\\n",
       "count  2535.000000  2535.000000  2535.000000  2535.000000  2535.000000   \n",
       "mean     37.331795    31.355345    90.921262    17.448718    19.352623   \n",
       "std       2.789389     4.262982    13.130786     8.058431     7.769431   \n",
       "min      29.400000    19.000000    56.000000     3.000000     5.000000   \n",
       "25%      35.300000    28.300000    81.100000    11.000000    13.000000   \n",
       "50%      37.200000    31.200000    89.800000    16.200000    18.600000   \n",
       "75%      39.300000    34.200000    99.600000    23.000000    24.900000   \n",
       "max      48.600000    50.600000   149.500000    42.900000    40.200000   \n",
       "\n",
       "          BMXTHICR     RIAGENDR     RIDAGEYR  \n",
       "count  2535.000000  2535.000000  2535.000000  \n",
       "mean     52.163748     1.495069    34.407495  \n",
       "std       5.950257     0.500074    12.798081  \n",
       "min      29.300000     1.000000    18.000000  \n",
       "25%      48.200000     1.000000    23.000000  \n",
       "50%      51.700000     1.000000    33.000000  \n",
       "75%      55.700000     2.000000    45.000000  \n",
       "max      82.700000     2.000000    60.000000  "
      ]
     },
     "execution_count": 14,
     "metadata": {},
     "output_type": "execute_result"
    }
   ],
   "source": [
    "sub1 = sub1.dropna()\n",
    "sub1.describe()"
   ]
  },
  {
   "cell_type": "code",
   "execution_count": 15,
   "metadata": {},
   "outputs": [
    {
     "data": {
      "text/plain": [
       "RIDRETH1\n",
       "Black_American       616\n",
       "Mexican_American     654\n",
       "White_American      1265\n",
       "dtype: int64"
      ]
     },
     "execution_count": 15,
     "metadata": {},
     "output_type": "execute_result"
    }
   ],
   "source": [
    "# checking the number of instances that belong to each RIDRETH1 class\n",
    "sub1.groupby('RIDRETH1').size()"
   ]
  },
  {
   "cell_type": "code",
   "execution_count": 16,
   "metadata": {},
   "outputs": [
    {
     "data": {
      "image/png": "[encoded data removed]",
      "text/plain": [
       "<matplotlib.figure.Figure at 0x90ffb00>"
      ]
     },
     "metadata": {},
     "output_type": "display_data"
    }
   ],
   "source": [
    "# histograms\n",
    "import matplotlib.pyplot as plt\n",
    "sub1.hist()\n",
    "plt.show()"
   ]
  },
  {
   "cell_type": "code",
   "execution_count": 17,
   "metadata": {},
   "outputs": [
    {
     "data": {
      "image/png": "[encoded data removed]",
      "text/plain": [
       "<matplotlib.figure.Figure at 0xcb3fa20>"
      ]
     },
     "metadata": {},
     "output_type": "display_data"
    }
   ],
   "source": [
    "# scatter plot matrix\n",
    "from pandas.plotting import scatter_matrix\n",
    "scatter_matrix(sub1)\n",
    "plt.show()"
   ]
  },
  {
   "cell_type": "code",
   "execution_count": 18,
   "metadata": {
    "collapsed": true
   },
   "outputs": [],
   "source": [
    "# generating train dataset and validation dataset\n",
    "from sklearn import model_selection\n",
    "array = sub1.values\n",
    "explanatory = array[:,0:13]\n",
    "responsive = array[:,13]\n",
    "explanatory_train, explanatory_validation, responsive_train, responsive_validation = model_selection.train_test_split(\n",
    "    explanatory, responsive, test_size=0.2, random_state=10)"
   ]
  },
  {
   "cell_type": "code",
   "execution_count": 19,
   "metadata": {
    "collapsed": true
   },
   "outputs": [],
   "source": [
    "# algorithms used for evaluation\n",
    "from sklearn.linear_model import LogisticRegression\n",
    "from sklearn.discriminant_analysis import LinearDiscriminantAnalysis\n",
    "from sklearn.linear_model import SGDClassifier\n",
    "from sklearn.neighbors import KNeighborsClassifier\n",
    "from sklearn.tree import DecisionTreeClassifier\n",
    "from sklearn.ensemble import RandomForestClassifier\n",
    "from sklearn.ensemble import ExtraTreesClassifier\n",
    "from sklearn.naive_bayes import GaussianNB\n",
    "from sklearn.svm import SVC\n",
    "from sklearn.neural_network import MLPClassifier"
   ]
  },
  {
   "cell_type": "code",
   "execution_count": 21,
   "metadata": {},
   "outputs": [
    {
     "name": "stdout",
     "output_type": "stream",
     "text": [
      "LR: 0.650422 (0.024316)\n",
      "LDA: 0.645971 (0.014392)\n",
      "RF: 0.587268 (0.023801)\n",
      "ET: 0.576489 (0.041656)\n",
      "KNN: 0.526620 (0.029733)\n",
      "CART: 0.535536 (0.035580)\n",
      "NB: 0.515771 (0.025366)\n",
      "SVM: 0.513798 (0.042307)\n",
      "MLP: 0.541982 (0.053734)\n",
      "SGD: 0.448695 (0.093134)\n"
     ]
    }
   ],
   "source": [
    "# making a list of algorithms\n",
    "models = []\n",
    "models.append(('LR', LogisticRegression()))\n",
    "models.append(('LDA', LinearDiscriminantAnalysis()))\n",
    "models.append(('RF', RandomForestClassifier()))\n",
    "models.append(('ET', ExtraTreesClassifier()))\n",
    "models.append(('KNN', KNeighborsClassifier()))\n",
    "models.append(('CART', DecisionTreeClassifier()))\n",
    "models.append(('NB', GaussianNB()))\n",
    "models.append(('SVM', SVC()))\n",
    "models.append(('MLP', MLPClassifier()))\n",
    "models.append(('SGD', SGDClassifier()))\n",
    "\n",
    "# evaluating each algorithm in turn\n",
    "results = []\n",
    "names = []\n",
    "for name, model in models:\n",
    "    kfold = model_selection.KFold(n_splits=10, random_state=10)\n",
    "    cv_results = model_selection.cross_val_score(model, explanatory_train, responsive_train, cv=kfold, scoring='accuracy')\n",
    "    results.append(cv_results)\n",
    "    names.append(name)\n",
    "    msg = \"%s: %f (%f)\" % (name, cv_results.mean(), cv_results.std())\n",
    "    print (msg)"
   ]
  },
  {
   "cell_type": "code",
   "execution_count": 22,
   "metadata": {
    "scrolled": true
   },
   "outputs": [
    {
     "data": {
      "image/png": "[encoded data removed]",
      "text/plain": [
       "<matplotlib.figure.Figure at 0x18497b70>"
      ]
     },
     "metadata": {},
     "output_type": "display_data"
    }
   ],
   "source": [
    "# making a plot\n",
    "fig = plt.figure()\n",
    "ax = fig.add_subplot(111)\n",
    "plt.boxplot(results)\n",
    "ax.set_xticklabels(names)\n",
    "plt.xlabel('Algorithms')\n",
    "plt.ylabel('Estimated accuracy score')\n",
    "plt.show()"
   ]
  },
  {
   "cell_type": "markdown",
   "metadata": {},
   "source": [
    "In the models that we tested, the LR and LDA algorithms had the highest estimated accuracy score (0.65). Next we can check the accuracy of the models on the validation dataset."
   ]
  },
  {
   "cell_type": "code",
   "execution_count": 23,
   "metadata": {},
   "outputs": [
    {
     "name": "stdout",
     "output_type": "stream",
     "text": [
      "Accuracy score of LR algorithm \n",
      "0.650887573964 \n",
      "\n",
      "Confusion matrix \n",
      "[[ 52  20  54]\n",
      " [  5  81  67]\n",
      " [ 18  13 197]] \n",
      "\n",
      "Classification report \n",
      "                  precision    recall  f1-score   support\n",
      "\n",
      "  Black_American       0.69      0.41      0.52       126\n",
      "Mexican_American       0.71      0.53      0.61       153\n",
      "  White_American       0.62      0.86      0.72       228\n",
      "\n",
      "     avg / total       0.67      0.65      0.64       507\n",
      "\n"
     ]
    }
   ],
   "source": [
    "# Checking accuracy of the LR model and making predictions on validation dataset\n",
    "from sklearn.metrics import classification_report\n",
    "from sklearn.metrics import confusion_matrix\n",
    "from sklearn.metrics import accuracy_score\n",
    "\n",
    "LR = LogisticRegression()\n",
    "LR.fit(explanatory_train, responsive_train)\n",
    "predictions = LR.predict(explanatory_validation)\n",
    "print 'Accuracy score of LR algorithm', '\\n', (accuracy_score(responsive_validation, predictions)), '\\n'\n",
    "print 'Confusion matrix', '\\n', (confusion_matrix(responsive_validation, predictions)), '\\n'\n",
    "print 'Classification report', '\\n', (classification_report(responsive_validation, predictions))"
   ]
  },
  {
   "cell_type": "markdown",
   "metadata": {},
   "source": [
    "The accuracy of LR algorithm is 0.65. The confusion matrix shows the number of errors made. The Classification report shows precision, recall, f1-score, and support. Precision is the number of True Positives divided by the number of True Positives and False Positives. A low precision indicates a large number of False Positives. Recall is the number of True Positives divided by the number of True Positives and the number of False Negatives. A low recall indicates many False Negatives. The f1-score is the 2*((precision*recall)/(precision+recall)). The f1-score conveys the balance between the precision and the recall. Similar results were obtained when making predictions using LDA algorithm on validation dataset."
   ]
  },
  {
   "cell_type": "code",
   "execution_count": 24,
   "metadata": {},
   "outputs": [
    {
     "name": "stdout",
     "output_type": "stream",
     "text": [
      "Accuracy score of LDA algorithm \n",
      "0.642998027613 \n",
      "\n",
      "Confusion matrix \n",
      "[[ 52  19  55]\n",
      " [  5  81  67]\n",
      " [ 19  16 193]] \n",
      "\n",
      "Classification report \n",
      "                  precision    recall  f1-score   support\n",
      "\n",
      "  Black_American       0.68      0.41      0.51       126\n",
      "Mexican_American       0.70      0.53      0.60       153\n",
      "  White_American       0.61      0.85      0.71       228\n",
      "\n",
      "     avg / total       0.66      0.64      0.63       507\n",
      "\n"
     ]
    }
   ],
   "source": [
    "# Checking accuracy of the LDA model and making predictions on validation dataset\n",
    "LDA = LinearDiscriminantAnalysis()\n",
    "LDA.fit(explanatory_train, responsive_train)\n",
    "predictions = LDA.predict(explanatory_validation)\n",
    "print 'Accuracy score of LDA algorithm', '\\n', (accuracy_score(responsive_validation, predictions)), '\\n'\n",
    "print 'Confusion matrix', '\\n', (confusion_matrix(responsive_validation, predictions)), '\\n'\n",
    "print 'Classification report', '\\n', (classification_report(responsive_validation, predictions))"
   ]
  }
 ],
 "metadata": {
  "kernelspec": {
   "display_name": "Python 2",
   "language": "python",
   "name": "python2"
  },
  "language_info": {
   "codemirror_mode": {
    "name": "ipython",
    "version": 2
   },
   "file_extension": ".py",
   "mimetype": "text/x-python",
   "name": "python",
   "nbconvert_exporter": "python",
   "pygments_lexer": "ipython2",
   "version": "2.7.13"
  }
 },
 "nbformat": 4,
 "nbformat_minor": 2
}
